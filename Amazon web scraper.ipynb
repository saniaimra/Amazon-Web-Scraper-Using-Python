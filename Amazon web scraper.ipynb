{
 "cells": [
  {
   "cell_type": "code",
   "execution_count": null,
   "id": "a28bf603-2290-42b4-8090-ac27077eac61",
   "metadata": {},
   "outputs": [],
   "source": [
    "#import libraries\n",
    "\n",
    "from bs4 import BeautifulSoup\n",
    "import requests\n",
    "import time\n",
    "import datetime\n",
    "\n",
    "import smtplib"
   ]
  },
  {
   "cell_type": "code",
   "execution_count": null,
   "id": "b8c208ee-5370-4a96-83f4-485dec554231",
   "metadata": {},
   "outputs": [],
   "source": [
    "# Connect to website\n",
    "url = 'https://www.amazon.in/gp/aw/d/B0CK2TQWQQ/?_encoding=UTF8&pd_rd_plhdr=t&aaxitk=62e63f622def36da528686cae041f7aa&hsa_cr_id=0&qid=1755614910&sr=1-1-e0fa1fdd-d857-4087-adda-5bd576b25987&ref_=sbx_be_s_sparkle_dlcd_asin_0_img&pd_rd_w=grJDi&content-id=amzn1.sym.cbe1d71a-30e3-45dc-b787-bad221b13c68%3Aamzn1.sym.cbe1d71a-30e3-45dc-b787-bad221b13c68&pf_rd_p=cbe1d71a-30e3-45dc-b787-bad221b13c68&pf_rd_r=DK9PYCK7ZEGN54R95MJS&pd_rd_wg=F7Wog&pd_rd_r=2fa1a552-47a7-4add-840d-243d22358cbf'\n",
    "\n",
    "headers =  {\"User-Agent\": \"Mozilla/5.0 (Windows NT 10.0; Win64; x64) AppleWebKit/537.36 (KHTML, like Gecko) Chrome/78.0.3904.108 Safari/537.36\", \"Accept-Encoding\":\"gzip, deflate\", \"Accept\":\"text/html,application/xhtml+xml,application/xml;q=0.9,*/*;q=0.8\", \"DNT\":\"1\",\"Connection\":\"close\", \"Upgrade-Insecure-Requests\":\"1\"}\n",
    "\n",
    "page = requests.get(url, headers = headers)\n",
    "\n",
    "soup1 = BeautifulSoup(page.content, \"html.parser\")\n",
    "\n",
    "soup2 = BeautifulSoup(soup1.prettify(), \"html.parser\")\n",
    "\n",
    "title = soup2.find(id = 'productTitle').get_text()\n",
    "\n",
    "price = soup2.find(id = 'corePrice_feature_div').get_text()\n",
    "\n",
    "print(title)\n",
    "print(price)\n",
    "\n",
    "\n",
    "\n",
    "#corePrice_feature_div\n",
    "\n",
    "\n"
   ]
  },
  {
   "cell_type": "code",
   "execution_count": null,
   "id": "93cde11b-badc-4891-9bf6-c4a3dd64c6fa",
   "metadata": {},
   "outputs": [],
   "source": [
    "price = price.strip()[1:4]\n",
    "title = title.strip()\n",
    "print(title)\n",
    "print(price)"
   ]
  },
  {
   "cell_type": "code",
   "execution_count": null,
   "id": "987e0bbd-e1ef-4780-8a5e-b27a23358809",
   "metadata": {},
   "outputs": [],
   "source": [
    "import datetime\n",
    "\n",
    "today = datetime.date.today()\n",
    "print(today)\n"
   ]
  },
  {
   "cell_type": "code",
   "execution_count": null,
   "id": "6d25bcab-b0e6-479f-a865-e0026001744b",
   "metadata": {},
   "outputs": [],
   "source": [
    "import csv\n",
    "\n",
    "header = ['Title','Price','Date']\n",
    "data = [title, price, today]\n",
    "\n",
    "with open('AmazonWebScraperDataset.csv','w',newline = '',encoding='UTF8') as f:\n",
    "    writer =csv.writer(f)\n",
    "    writer.writerow(header)\n",
    "    writer.writerow(data)\n",
    "\n",
    "\n",
    "\n",
    "\n",
    "\n",
    "\n",
    "\n",
    "\n",
    "\n",
    "\n",
    "    "
   ]
  },
  {
   "cell_type": "code",
   "execution_count": null,
   "id": "c527156c-631a-4fb0-b60c-8e47ee80cb08",
   "metadata": {},
   "outputs": [],
   "source": [
    "import pandas as pd\n",
    "\n",
    "df = pd.read_csv(r\"C:\\Users\\sania\\Amazon Web Scraper Project\\AmazonWebScraperDataset.csv\")\n",
    "\n",
    "print(df)"
   ]
  },
  {
   "cell_type": "code",
   "execution_count": null,
   "id": "d9a4254e-fcea-4005-9ae7-0b6df384f212",
   "metadata": {},
   "outputs": [],
   "source": [
    "# Append data to csv\n",
    "with open('AmazonWebScraperDataset.csv','a+',newline = '',encoding='UTF8') as f:\n",
    "    writer =csv.writer(f)\n",
    "    writer.writerow(data)\n"
   ]
  },
  {
   "cell_type": "code",
   "execution_count": null,
   "id": "f6aed441-bc6b-4173-bc2e-de9d347f1565",
   "metadata": {},
   "outputs": [],
   "source": [
    "def check_price():\n",
    "    url = 'https://www.amazon.in/gp/aw/d/B0CK2TQWQQ/?_encoding=UTF8&pd_rd_plhdr=t&aaxitk=62e63f622def36da528686cae041f7aa&hsa_cr_id=0&qid=1755614910&sr=1-1-e0fa1fdd-d857-4087-adda-5bd576b25987&ref_=sbx_be_s_sparkle_dlcd_asin_0_img&pd_rd_w=grJDi&content-id=amzn1.sym.cbe1d71a-30e3-45dc-b787-bad221b13c68%3Aamzn1.sym.cbe1d71a-30e3-45dc-b787-bad221b13c68&pf_rd_p=cbe1d71a-30e3-45dc-b787-bad221b13c68&pf_rd_r=DK9PYCK7ZEGN54R95MJS&pd_rd_wg=F7Wog&pd_rd_r=2fa1a552-47a7-4add-840d-243d22358cbf'\n",
    "\n",
    "    headers =  {\"User-Agent\": \"Mozilla/5.0 (Windows NT 10.0; Win64; x64) AppleWebKit/537.36 (KHTML, like Gecko) Chrome/78.0.3904.108 Safari/537.36\", \"Accept-Encoding\":\"gzip, deflate\", \"Accept\":\"text/html,application/xhtml+xml,application/xml;q=0.9,*/*;q=0.8\", \"DNT\":\"1\",\"Connection\":\"close\", \"Upgrade-Insecure-Requests\":\"1\"}\n",
    "    \n",
    "    page = requests.get(url, headers = headers)\n",
    "    \n",
    "    soup1 = BeautifulSoup(page.content, \"html.parser\")\n",
    "    \n",
    "    soup2 = BeautifulSoup(soup1.prettify(), \"html.parser\")\n",
    "    \n",
    "    title = soup2.find(id = 'productTitle').get_text()\n",
    "    \n",
    "    price = soup2.find(id = 'corePrice_feature_div').get_text()\n",
    "    \n",
    "    price = price.strip()[1:4]\n",
    "    title = title.strip()\n",
    "\n",
    "    import datetime\n",
    "    \n",
    "    today = datetime.date.today()\n",
    "    import csv\n",
    "    \n",
    "    header = ['Title','Price','Date']\n",
    "    data = [title, price, today]\n",
    "    \n",
    "    with open('AmazonWebScraperDataset.csv','w',newline = '',encoding='UTF8') as f:\n",
    "        writer =csv.writer(f)\n",
    "        writer.writerow(header)\n",
    "        writer.writerow(data)\n",
    "\n",
    "\n",
    "\n",
    "\n"
   ]
  },
  {
   "cell_type": "code",
   "execution_count": null,
   "id": "fc8349f8-781b-4af7-aed8-67449bedb8b0",
   "metadata": {},
   "outputs": [],
   "source": [
    "while(True):\n",
    "    check_price()\n",
    "    time.sleep(5)"
   ]
  },
  {
   "cell_type": "code",
   "execution_count": null,
   "id": "99711a92-0ceb-485e-bf8c-806cecd4dda1",
   "metadata": {},
   "outputs": [],
   "source": [
    "import pandas as pd\n",
    "\n",
    "df = pd.read_csv(r\"C:\\Users\\sania\\Amazon Web Scraper Project\\AmazonWebScraperDataset.csv\")\n",
    "\n",
    "print(df)"
   ]
  },
  {
   "cell_type": "code",
   "execution_count": null,
   "id": "3431b814-ce63-4b9c-a3ce-0f6cdf0133c6",
   "metadata": {},
   "outputs": [],
   "source": [
    "def send_mail():\n",
    "    server = smtplib.SMTP_SSL('smtp.gmail.com',465)\n",
    "    server.ehlo()\n",
    "    #server.starttls()\n",
    "    server.ehlo()\n",
    "    server.login('saniamra86@gmail.com','xxxxxxxxxxxxxx')\n",
    "    \n",
    "    subject = \"The Shirt you want is below 500! Now is your chance to buy!\"\n",
    "    body = \"Alex, This is the moment we have been waiting for. Now is your chance to pick up the shirt of your dreams. Don't mess it up! Link here: https://www.amazon.com/Funny-Data-Systems-Business-Analyst/dp/B07FNW9FGJ/ref=sr_1_3?dchild=1&keywords=data+analyst+tshirt&qid=1626655184&sr=8-3\"\n",
    "   \n",
    "    msg = f\"Subject: {subject}\\n\\n{body}\"\n",
    "    \n",
    "    server.sendmail(\n",
    "        'saniaimra86@gmail.com',\n",
    "        msg\n",
    "     \n",
    "    )"
   ]
  },
  {
   "cell_type": "code",
   "execution_count": null,
   "id": "cefa1ab2-b144-4e7d-8b51-98780b5012ea",
   "metadata": {},
   "outputs": [],
   "source": []
  }
 ],
 "metadata": {
  "kernelspec": {
   "display_name": "Python 3 (ipykernel)",
   "language": "python",
   "name": "python3"
  },
  "language_info": {
   "codemirror_mode": {
    "name": "ipython",
    "version": 3
   },
   "file_extension": ".py",
   "mimetype": "text/x-python",
   "name": "python",
   "nbconvert_exporter": "python",
   "pygments_lexer": "ipython3",
   "version": "3.12.7"
  }
 },
 "nbformat": 4,
 "nbformat_minor": 5
}
